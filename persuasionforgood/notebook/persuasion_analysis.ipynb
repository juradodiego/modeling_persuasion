{
 "cells": [
  {
   "cell_type": "markdown",
   "source": [
    "# Insert Title Here\n",
    "## Table of Contents\n",
    "* Introduction\n",
    "* Loading Data\n",
    "* Processing Data\n",
    "* Statistical Analysis\n",
    "* Conclusion"
   ],
   "metadata": {}
  },
  {
   "cell_type": "markdown",
   "source": [
    "## Introduction\n",
    "Structure:\n",
    "- Introduce Persuasion for Good\n",
    "- Introduce Dataset\n",
    "- Explain type of analysis"
   ],
   "metadata": {}
  },
  {
   "cell_type": "code",
   "execution_count": 1,
   "source": [
    "# Importing Libraries\n",
    "import pandas as pd\n",
    "import math\n"
   ],
   "outputs": [],
   "metadata": {}
  },
  {
   "cell_type": "markdown",
   "source": [
    "## Loading Data w/o Persuadee Background"
   ],
   "metadata": {}
  },
  {
   "cell_type": "code",
   "execution_count": 2,
   "source": [
    "\n",
    "''' Initializing Data Frame '''\n",
    "\n",
    "# Initializing ID and Persuasion Strategy data\n",
    "# from 'xlsx' file in the form of Pandas Dataframe\n",
    "\n",
    "ps_df = pd.read_excel(r'dialog.xlsx')\n",
    "ps_df = ps_df[ps_df.B4 != 1]\n",
    "ps_df = ps_df.reset_index()\n",
    "ps_df.drop(['Unnamed: 0', 'index', 'B4', 'Turn',\n",
    "            'Unit', 'ee_label_1', 'ee_label_2',\n",
    "            'er_label_2', 'neg', 'neu', 'pos'],\n",
    "           inplace=True, axis=1)\n",
    "\n",
    "# Initializing ID and Donation Amount data\n",
    "# from 'xlsx' file in the form of a Pandas Dataframe\n",
    "\n",
    "da_df = pd.read_excel(r'info.xlsx')\n",
    "da_df = da_df.sort_values('B2')\n",
    "da_df = da_df[da_df.B4 != 1]\n",
    "da_df = da_df.reset_index()\n",
    "da_df.drop(['index', 'B3', 'B4', 'B5', 'B7'],\n",
    "           inplace=True, axis=1)\n"
   ],
   "outputs": [],
   "metadata": {}
  },
  {
   "cell_type": "code",
   "execution_count": 3,
   "source": [
    "\n",
    "''' Creating list of dictionaries of Dialogue IDs and Persuasive Strategies '''\n",
    "\n",
    "# declaring Variables\n",
    "id_list = []\n",
    "s_list = []\n",
    "data_dict = {}\n",
    "id_and_ps = []\n",
    "\n",
    "# iterating through rows of data frame\n",
    "for pos, row in enumerate(ps_df.itertuples()):\n",
    "\n",
    "    # new ID check\n",
    "    if row[1] not in id_list:\n",
    "        id_list.append(row[1])  # add new id to list\n",
    "        current = id_list[-1]  # current is top of the stack\n",
    "\n",
    "        if len(id_list) == 1:\n",
    "            previous = current  # if there is only 1 id then the current is the previous\n",
    "        else:\n",
    "            previous = id_list[-2]  # ID under current in stack\n",
    "\n",
    "        if previous != current:\n",
    "\n",
    "            # swapping memory spots for s_list\n",
    "            s = s_list\n",
    "            s_list = []\n",
    "\n",
    "            # appending this iteration to temporary dictionary\n",
    "            data_dict['Dialogue ID'] = previous\n",
    "            data_dict['Strategies'] = s\n",
    "\n",
    "            # swapping memory spots for data_dict\n",
    "            i = data_dict\n",
    "            data_dict = {}\n",
    "\n",
    "            # appending to the id_and_ps list\n",
    "            id_and_ps.append(i)\n",
    "\n",
    "    # strategy list add\n",
    "    if current == row[1]:\n",
    "        s_list.append(row[2])\n",
    "\n",
    "    # if it is the end\n",
    "    if pos == (len(ps_df)-1):\n",
    "\n",
    "        # swapping memory spots for s_list\n",
    "        s = s_list\n",
    "        s_list = []\n",
    "\n",
    "        # appending this iteration to temporary dictionary\n",
    "        data_dict['Dialogue ID'] = current\n",
    "        data_dict['Strategies'] = s\n",
    "\n",
    "        # swapping memory spots for data_dict\n",
    "        i = data_dict\n",
    "        data_dict = {}\n",
    "\n",
    "        # appending to the id_and_ps list\n",
    "        id_and_ps.append(i)\n",
    "\n",
    "# sorting id_and_ps list by Dialogue IDs\n",
    "id_and_ps = sorted(id_and_ps, key=lambda x: x['Dialogue ID'])\n"
   ],
   "outputs": [],
   "metadata": {}
  },
  {
   "cell_type": "code",
   "execution_count": 4,
   "source": [
    "''' Creating list of dictionaries of Dialogue IDs and Donation Amount'''\n",
    "\n",
    "id_and_donation = [{'Dialogue ID': row[1], 'Donation': row[2]}\n",
    "                   for row in da_df.itertuples()]\n"
   ],
   "outputs": [],
   "metadata": {}
  },
  {
   "cell_type": "code",
   "execution_count": 5,
   "source": [
    "''' Defining a method to merge to dictionaries and return a separate third'''\n",
    "\n",
    "def Merge(dict1, dict2):\n",
    "    dict1.update(dict2)\n",
    "    dict3 = dict1\n",
    "    return dict3\n"
   ],
   "outputs": [],
   "metadata": {}
  },
  {
   "cell_type": "code",
   "execution_count": 6,
   "source": [
    "''' Merging both lists of dictionaries into one '''\n",
    "\n",
    "data = [Merge(id_and_ps[pos], id_and_donation[pos])\n",
    "        for pos, i in enumerate(id_and_ps)]\n"
   ],
   "outputs": [],
   "metadata": {}
  },
  {
   "cell_type": "markdown",
   "source": [
    "## Processing Data"
   ],
   "metadata": {}
  },
  {
   "cell_type": "code",
   "execution_count": null,
   "source": [],
   "outputs": [],
   "metadata": {}
  },
  {
   "cell_type": "markdown",
   "source": [
    "## Statistical Analysis"
   ],
   "metadata": {}
  },
  {
   "cell_type": "code",
   "execution_count": null,
   "source": [],
   "outputs": [],
   "metadata": {}
  },
  {
   "cell_type": "markdown",
   "source": [
    "## Conclusion"
   ],
   "metadata": {}
  }
 ],
 "metadata": {
  "orig_nbformat": 4,
  "language_info": {
   "name": "python"
  }
 },
 "nbformat": 4,
 "nbformat_minor": 2
}