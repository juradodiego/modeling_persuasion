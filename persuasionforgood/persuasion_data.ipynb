{
 "cells": [
  {
   "cell_type": "markdown",
   "source": [
    "# Evaluating Classification Models of Personalized Persuasive Dialogue Systems"
   ],
   "metadata": {}
  },
  {
   "cell_type": "markdown",
   "source": [
    "### Outline of Contents\n",
    "* Introduction"
   ],
   "metadata": {}
  },
  {
   "cell_type": "markdown",
   "source": [],
   "metadata": {}
  }
 ],
 "metadata": {
  "orig_nbformat": 4,
  "language_info": {
   "name": "python"
  }
 },
 "nbformat": 4,
 "nbformat_minor": 2
}